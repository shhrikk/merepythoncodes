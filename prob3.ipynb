{
 "cells": [
  {
   "cell_type": "code",
   "execution_count": 1,
   "id": "e658daac-356b-42ce-876f-0e66978c2fec",
   "metadata": {
    "tags": []
   },
   "outputs": [
    {
     "name": "stdin",
     "output_type": "stream",
     "text": [
      "Enter n:  4\n",
      "Enter r:  2\n"
     ]
    },
    {
     "name": "stdout",
     "output_type": "stream",
     "text": [
      "Combination is:  6\n"
     ]
    }
   ],
   "source": [
    "import numpy as np\n",
    "def comb(n,r):\n",
    "    if (r==0 or r==n):\n",
    "        return 1\n",
    "    else:\n",
    "        return (comb(n-1,r-1)+comb(n-1,r))\n",
    "\n",
    "n = int(input(\"Enter n: \"))\n",
    "r = int(input(\"Enter r: \"))\n",
    "c = comb(n,r)\n",
    "print(\"Combination is: \",c)"
   ]
  },
  {
   "cell_type": "code",
   "execution_count": null,
   "id": "8834b36f-1e21-4e88-8148-eda39ce4a286",
   "metadata": {},
   "outputs": [],
   "source": []
  }
 ],
 "metadata": {
  "kernelspec": {
   "display_name": "Python 3 (ipykernel)",
   "language": "python",
   "name": "python3"
  },
  "language_info": {
   "codemirror_mode": {
    "name": "ipython",
    "version": 3
   },
   "file_extension": ".py",
   "mimetype": "text/x-python",
   "name": "python",
   "nbconvert_exporter": "python",
   "pygments_lexer": "ipython3",
   "version": "3.11.5"
  }
 },
 "nbformat": 4,
 "nbformat_minor": 5
}
