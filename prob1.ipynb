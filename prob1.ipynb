{
 "cells": [
  {
   "cell_type": "code",
   "execution_count": 1,
   "id": "80f08236-4c5f-48c6-9700-72532ae97bde",
   "metadata": {
    "tags": []
   },
   "outputs": [
    {
     "name": "stdin",
     "output_type": "stream",
     "text": [
      "Enter the size of the problem  3\n"
     ]
    },
    {
     "name": "stdout",
     "output_type": "stream",
     "text": [
      "Think of an integer from 1 to 27\n",
      "[[ 1  2  3]\n",
      " [ 4  5  6]\n",
      " [ 7  8  9]\n",
      " [10 11 12]\n",
      " [13 14 15]\n",
      " [16 17 18]\n",
      " [19 20 21]\n",
      " [22 23 24]\n",
      " [25 26 27]]\n"
     ]
    },
    {
     "name": "stdin",
     "output_type": "stream",
     "text": [
      "Enter the column number  1\n"
     ]
    },
    {
     "name": "stdout",
     "output_type": "stream",
     "text": [
      "[[ 1  4  7]\n",
      " [10 13 16]\n",
      " [19 22 25]\n",
      " [ 2  5  8]\n",
      " [11 14 17]\n",
      " [20 23 26]\n",
      " [ 3  6  9]\n",
      " [12 15 18]\n",
      " [21 24 27]]\n"
     ]
    },
    {
     "name": "stdin",
     "output_type": "stream",
     "text": [
      "Enter the column number  1\n"
     ]
    },
    {
     "name": "stdout",
     "output_type": "stream",
     "text": [
      "[[ 1 10 19]\n",
      " [ 2 11 20]\n",
      " [ 3 12 21]\n",
      " [ 4 13 22]\n",
      " [ 5 14 23]\n",
      " [ 6 15 24]\n",
      " [ 7 16 25]\n",
      " [ 8 17 26]\n",
      " [ 9 18 27]]\n"
     ]
    },
    {
     "name": "stdin",
     "output_type": "stream",
     "text": [
      "Enter the column number  3\n"
     ]
    },
    {
     "name": "stdout",
     "output_type": "stream",
     "text": [
      "The number you thought is 19\n"
     ]
    }
   ],
   "source": [
    "# Rewrite the code game reshape.txt (uploaded in hello iitk portal) by replacing the numpy.reshape commands \n",
    "# into a user-defined subroutine. In other words, you need to write a user-defined function that implements\n",
    "# numpy.reshape, and test it on the given code.\n",
    "\n",
    "import numpy as np\n",
    "\n",
    "n=int(input(\"Enter the size of the problem \"))\n",
    "print(\"Think of an integer from 1 to\",n**n)\n",
    "a=np.reshape(np.arange(1,n**n+1),(n**(n-1),n))\n",
    "num=1\n",
    "for i in range(n):\n",
    "    print(a)\n",
    "    l=int(input(\"Enter the column number \"))\n",
    "    num+=(l-1)*(n**i)\n",
    "    b=np.reshape(a.T,(n**(n-1),n))\n",
    "    a=b\n",
    "print(\"The number you thought is\",num)"
   ]
  },
  {
   "cell_type": "code",
   "execution_count": 10,
   "id": "994604ff-2231-4913-9e29-f0c898f102b1",
   "metadata": {},
   "outputs": [
    {
     "name": "stdout",
     "output_type": "stream",
     "text": [
      "[[ 1.  2.  3.]\n",
      " [ 4.  5.  6.]\n",
      " [ 7.  8.  9.]\n",
      " [10. 11. 12.]\n",
      " [13. 14. 15.]\n",
      " [16. 17. 18.]]\n"
     ]
    }
   ],
   "source": [
    "import numpy as np\n",
    "def reshape1(ar,a,b):\n",
    "    ar=ar.flatten()\n",
    "    z=np.zeros((a,b))\n",
    "    c=0\n",
    "    for i in range(a):\n",
    "        for j in range(b):\n",
    "            z[i,j] = ar[c]\n",
    "            c += 1\n",
    "    return z\n",
    "result = reshape1(np.arange(1, 19), 6, 3)\n",
    "print(result)\n"
   ]
  },
  {
   "cell_type": "code",
   "execution_count": 3,
   "id": "9df18e58-eb11-4d78-bd0f-6f633f9ba94f",
   "metadata": {},
   "outputs": [
    {
     "name": "stdout",
     "output_type": "stream",
     "text": [
      "[[ 1.  2.  3.]\n",
      " [ 4.  5.  6.]\n",
      " [ 7.  8.  9.]\n",
      " [10. 11. 12.]\n",
      " [13. 14. 15.]\n",
      " [16. 17. 18.]]\n"
     ]
    }
   ],
   "source": [
    "import numpy as np\n",
    "\n",
    "def reshape1(ar, a, b):\n",
    "    ar = ar.flatten()\n",
    "    z = np.zeros((a, b))  # Corrected the shape argument for np.zeros\n",
    "    c = 0\n",
    "    for i in range(a):\n",
    "        for j in range(b):\n",
    "            z[i, j] = ar[c]\n",
    "            c += 1\n",
    "    return z\n",
    "\n",
    "result = reshape1(np.arange(1, 19), 6, 3)\n",
    "print(result)\n"
   ]
  },
  {
   "cell_type": "code",
   "execution_count": null,
   "id": "3ea294f4-6d1e-4579-aadd-df2f76d4dc7e",
   "metadata": {},
   "outputs": [],
   "source": []
  }
 ],
 "metadata": {
  "kernelspec": {
   "display_name": "Python 3 (ipykernel)",
   "language": "python",
   "name": "python3"
  },
  "language_info": {
   "codemirror_mode": {
    "name": "ipython",
    "version": 3
   },
   "file_extension": ".py",
   "mimetype": "text/x-python",
   "name": "python",
   "nbconvert_exporter": "python",
   "pygments_lexer": "ipython3",
   "version": "3.11.5"
  }
 },
 "nbformat": 4,
 "nbformat_minor": 5
}
