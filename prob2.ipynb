{
 "cells": [
  {
   "cell_type": "code",
   "execution_count": 1,
   "id": "eebe5308-1a88-4ea6-89fb-09df36a5cefc",
   "metadata": {
    "tags": []
   },
   "outputs": [
    {
     "name": "stdout",
     "output_type": "stream",
     "text": [
      "original dataframe \n",
      "    Name  Mark 1  Mark 2  Mark 4\n",
      "0  abc       7       6       3\n",
      "1  def       8       3       4\n",
      "2  ghi       9       8       3\n",
      "  Name  Mark 1  Mark 2  Mark 4\n",
      "0  def       8       3       4\n",
      "1  abc       7       6       3\n",
      "2  ghi       9       8       3\n"
     ]
    }
   ],
   "source": [
    "import numpy as np\n",
    "import pandas as pd\n",
    "# continuation of Q1. I have just copied the initial code. Making seperate files for ease.\n",
    "dict = {\"Name\":[\"abc\",\"def\",\"ghi\"],\"Mark 1\":[7,8,9],\"Mark 2\":[6,3,8],\"Mark 4\":[3,4,3]}\n",
    "df=pd.DataFrame(dict)\n",
    "row = df.shape[0]\n",
    "print(f\"original dataframe \\n  {df}\")\n",
    "\n",
    "for i in range(row):\n",
    "    for j in range(row-i-1):\n",
    "        if(df.iloc[j,2] > df.iloc[j+1,2]):\n",
    "            df.iloc[j], df.iloc[j + 1] = df.iloc[j + 1], df.iloc[j]\n",
    "print(df)"
   ]
  },
  {
   "cell_type": "code",
   "execution_count": 2,
   "id": "955945a3-6604-4943-a344-3ac25db64d91",
   "metadata": {
    "tags": []
   },
   "outputs": [
    {
     "name": "stdout",
     "output_type": "stream",
     "text": [
      "original dataframe:\n",
      "  Name  Mark 1  Mark 2\n",
      "0  abc       7       6\n",
      "1  def       8       3\n",
      "2  ghi       9       8\n",
      "\n",
      "sorted dataframe :\n",
      "  Name  Mark 1  Mark 2\n",
      "0  def       8       3\n",
      "1  abc       7       6\n",
      "2  ghi       9       8\n"
     ]
    }
   ],
   "source": [
    "import numpy as np\n",
    "import pandas as pd\n",
    "\n",
    "dict_1 = {\"Name\":[\"abc\",\"def\",\"ghi\"],\n",
    "            \"Mark 1\":[7,8,9],\n",
    "            \"Mark 2\":[6,3,8]}\n",
    "df = pd.DataFrame(dict_1)\n",
    "print(f\"original dataframe:\\n{df}\")  #print(\"original dataframe:\\n\" + str(df))\n",
    "\n",
    "def data_sort(df, column_1):\n",
    "    n = len(df)\n",
    "    for i in range(n):\n",
    "        for j in range (0, n - i -1):\n",
    "            if df.loc[j,column_1] > df.loc[j+1, column_1]:\n",
    "                df.loc[j,column_1], df.loc[j+1 ,column_1] = df.loc[j+1,column_1] , df.loc[j,column_1]\n",
    "                for col in df.columns:\n",
    "                        if col!= column_1:\n",
    "                            df.loc[j,col],df.loc[j+1 ,col] = df.loc[j+1,col],df.loc[j,col]\n",
    "                            \n",
    "data_sort(df,\"Mark 2\")\n",
    "print(f\"\\nsorted dataframe :\\n{df}\")"
   ]
  },
  {
   "cell_type": "code",
   "execution_count": null,
   "id": "753265be-55e9-47d6-910a-acb65c60f10a",
   "metadata": {},
   "outputs": [],
   "source": []
  }
 ],
 "metadata": {
  "kernelspec": {
   "display_name": "Python 3 (ipykernel)",
   "language": "python",
   "name": "python3"
  },
  "language_info": {
   "codemirror_mode": {
    "name": "ipython",
    "version": 3
   },
   "file_extension": ".py",
   "mimetype": "text/x-python",
   "name": "python",
   "nbconvert_exporter": "python",
   "pygments_lexer": "ipython3",
   "version": "3.11.5"
  }
 },
 "nbformat": 4,
 "nbformat_minor": 5
}
