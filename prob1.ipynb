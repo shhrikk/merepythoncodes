{
 "cells": [
  {
   "cell_type": "code",
   "execution_count": 1,
   "id": "4bd7104d-1926-45bf-bb75-cbd9f54f2202",
   "metadata": {
    "tags": []
   },
   "outputs": [],
   "source": [
    "\n",
    "import numpy as np\n",
    "import pandas as pd\n",
    "\n",
    "Name= [\"abc\",\"def\",\"ghi\"]\n",
    "Mark1 = [7,8,9]\n",
    "Mark2= [6,3,8]\n",
    "\n",
    "dict = {\"Name\": Name, \"Mark 1\":Mark1, \"Mark 2\":Mark2}\n",
    "\n",
    "file = open(\"markthirus.txt\",\"w\")\n",
    "\n",
    "for key, value in dict.items():\n",
    "    file.write(f\"{key}:{value}\\n\")\n",
    "file.close()"
   ]
  },
  {
   "cell_type": "code",
   "execution_count": 13,
   "id": "33acd95a-8be4-47cc-a5ad-d0f23a71d2a9",
   "metadata": {},
   "outputs": [],
   "source": [
    "Name = [\"abc\", \"def\", \"ghi\"]\n",
    "Mark1 = [7, 8, 9]\n",
    "Mark2 = [6, 3, 8]\n",
    "\n",
    "data_dict = {\"Name\": Name, \"Mark 1\": Mark1, \"Mark 2\": Mark2}\n",
    "\n",
    "# Open the file in write mode\n",
    "file = open(\"markses.txt\", \"w\")\n",
    "\n",
    "# Iterate through dictionary items and write them to the file\n",
    "for key, value in data_dict.items():\n",
    "    file.write(f\"{key}: {value}\\n\")\n",
    "\n",
    "# Close the file\n",
    "file.close()\n"
   ]
  },
  {
   "cell_type": "code",
   "execution_count": 6,
   "id": "2cc2be85-98ee-4935-a884-a5cc963dea0b",
   "metadata": {},
   "outputs": [],
   "source": [
    "import pandas as pd\n",
    "\n",
    "data_dict = {\"Name\": [\"abc\", \"def\", \"ghi\"], \"Mark 1\": [7, 8, 9], \"Mark 2\": [6, 3, 8]}\n",
    "df = pd.DataFrame(data_dict)\n",
    "\n",
    "file = open(\"1stques.txt\", 'w')\n",
    "\n",
    "for col in df.columns:\n",
    "    file.write(f\"{col}: {list(df[col])}\\n\")\n",
    "\n",
    "file.close()\n"
   ]
  },
  {
   "cell_type": "code",
   "execution_count": null,
   "id": "3226b28b-7de9-4ea3-ade9-19e6d52df79d",
   "metadata": {},
   "outputs": [],
   "source": []
  }
 ],
 "metadata": {
  "kernelspec": {
   "display_name": "Python 3 (ipykernel)",
   "language": "python",
   "name": "python3"
  },
  "language_info": {
   "codemirror_mode": {
    "name": "ipython",
    "version": 3
   },
   "file_extension": ".py",
   "mimetype": "text/x-python",
   "name": "python",
   "nbconvert_exporter": "python",
   "pygments_lexer": "ipython3",
   "version": "3.11.5"
  }
 },
 "nbformat": 4,
 "nbformat_minor": 5
}
