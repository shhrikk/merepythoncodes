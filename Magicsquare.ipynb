{
 "cells": [
  {
   "cell_type": "code",
   "execution_count": 4,
   "id": "f72a5d5b-2adb-4c6c-82c1-22cb8443979e",
   "metadata": {
    "tags": []
   },
   "outputs": [
    {
     "name": "stdin",
     "output_type": "stream",
     "text": [
      "Enter odd number  5\n",
      "Enter the sum  285\n"
     ]
    },
    {
     "name": "stdout",
     "output_type": "stream",
     "text": [
      "[[53. 47. 66. 60. 59.]\n",
      " [46. 65. 64. 58. 52.]\n",
      " [69. 63. 57. 51. 45.]\n",
      " [62. 56. 50. 49. 68.]\n",
      " [55. 54. 48. 67. 61.]]\n"
     ]
    }
   ],
   "source": [
    "import numpy as np\n",
    "n = int(input(\"Enter odd number \"))\n",
    "sum = int(input(\"Enter the sum \"))\n",
    "f = sum/n - (n*n - 1)/2\n",
    "k1 = n//2\n",
    "k2 = n - 1\n",
    "a = np.zeros([n,n])\n",
    "\n",
    "for i in range(n):\n",
    "          a[k1,k2] = f\n",
    "          for j in range(n-1):\n",
    "              f = f + 1\n",
    "              k1 = (k1-1)%n\n",
    "              k2 = (k2+1)%n\n",
    "              a[k1,k2] = f\n",
    "          f = f + 1\n",
    "          k2 = (k2 - 1)%n\n",
    "print(a)\n",
    "        "
   ]
  },
  {
   "cell_type": "code",
   "execution_count": 2,
   "id": "cc49e6e4-f187-4635-a298-331af978ba6a",
   "metadata": {},
   "outputs": [
    {
     "name": "stdout",
     "output_type": "stream",
     "text": [
      "[[0. 0. 0. 0. 0.]\n",
      " [0. 0. 0. 0. 0.]\n",
      " [0. 0. 0. 0. 0.]\n",
      " [0. 0. 0. 0. 0.]\n",
      " [0. 0. 0. 0. 0.]]\n"
     ]
    }
   ],
   "source": [
    "import numpy as np\n",
    "l = np.zeros([5,5])\n",
    "print(l)"
   ]
  },
  {
   "cell_type": "code",
   "execution_count": null,
   "id": "4d52e912-f2f6-4163-81ce-7b26183bbcf8",
   "metadata": {},
   "outputs": [],
   "source": []
  }
 ],
 "metadata": {
  "kernelspec": {
   "display_name": "Python 3 (ipykernel)",
   "language": "python",
   "name": "python3"
  },
  "language_info": {
   "codemirror_mode": {
    "name": "ipython",
    "version": 3
   },
   "file_extension": ".py",
   "mimetype": "text/x-python",
   "name": "python",
   "nbconvert_exporter": "python",
   "pygments_lexer": "ipython3",
   "version": "3.11.5"
  }
 },
 "nbformat": 4,
 "nbformat_minor": 5
}
