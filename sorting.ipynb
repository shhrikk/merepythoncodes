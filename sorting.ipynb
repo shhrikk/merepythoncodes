{
 "cells": [
  {
   "cell_type": "code",
   "execution_count": 3,
   "id": "36506ddd-cbb8-439b-97bf-f412a8c599fa",
   "metadata": {
    "tags": []
   },
   "outputs": [
    {
     "name": "stdin",
     "output_type": "stream",
     "text": [
      "Enter the numbers separated by space which needs to be sorted:  4 5 2 1 45 7 54 3 4\n"
     ]
    },
    {
     "name": "stdout",
     "output_type": "stream",
     "text": [
      "[ 1.  2.  3.  4.  4.  5.  7. 45. 54.]\n"
     ]
    }
   ],
   "source": [
    "import numpy as np\n",
    "x = list(map(int,input(\"Enter the numbers separated by space which needs to be sorted: \").split()))\n",
    "y = np.zeros(len(x))\n",
    "for i in range(len(x)):\n",
    "    k = min(x)\n",
    "    y[i] = k\n",
    "    x.remove(k)\n",
    "print(y)"
   ]
  },
  {
   "cell_type": "code",
   "execution_count": 5,
   "id": "bcc07541-72ca-4810-8976-c957c1b4df3e",
   "metadata": {},
   "outputs": [
    {
     "name": "stdin",
     "output_type": "stream",
     "text": [
      "Enter the numbers separated by space which needs to be sorted:  4 5 2 1 45 7 54 3 4\n"
     ]
    },
    {
     "name": "stdout",
     "output_type": "stream",
     "text": [
      "[1, 2, 3, 4, 4, 5, 7, 45, 54]\n"
     ]
    }
   ],
   "source": [
    "import numpy as np\n",
    "x = list(map(int,input(\"Enter the numbers separated by space which needs to be sorted: \").split()))\n",
    "\n",
    "for i in range(len(x)):\n",
    "    for j in range(len(x)-i-1):\n",
    "        if x[j] > x[j+1]:\n",
    "            x[j],x[j+1] = x[j+1],x[j]\n",
    "print(x)"
   ]
  },
  {
   "cell_type": "code",
   "execution_count": 6,
   "id": "5d80dda1-7b92-4b0e-8c19-fdf3b96958a8",
   "metadata": {
    "tags": []
   },
   "outputs": [
    {
     "name": "stdin",
     "output_type": "stream",
     "text": [
      "Enter the numbers separated by space which needs to be sorted:  4 5 2 1 45 7 54 3 4\n"
     ]
    },
    {
     "name": "stdout",
     "output_type": "stream",
     "text": [
      "[1, 2, 3, 4, 4, 5, 7, 45, 54]\n"
     ]
    }
   ],
   "source": [
    "import numpy as np\n",
    "x = list(map(int,input(\"Enter the numbers separated by space which needs to be sorted: \").split()))\n",
    "\n",
    "for i in range(len(x)):\n",
    "    for j in range(1,len(x)):\n",
    "        if x[j-1] > x[j]:\n",
    "            x[j-1],x[j] = x[j],x[j-1]\n",
    "print(x)"
   ]
  },
  {
   "cell_type": "code",
   "execution_count": 9,
   "id": "852b7984-62b8-4bc7-8f19-770a3c906163",
   "metadata": {
    "tags": []
   },
   "outputs": [
    {
     "name": "stdin",
     "output_type": "stream",
     "text": [
      "Enter the numbers separated by space which needs to be sorted:  1 3 634 74 74 4 32 2 4 6 334\n"
     ]
    },
    {
     "name": "stdout",
     "output_type": "stream",
     "text": [
      "[1, 2, 3, 4, 4, 6, 32, 74, 74, 334, 634]\n"
     ]
    }
   ],
   "source": [
    "import numpy as np\n",
    "x = list(map(int,input(\"Enter the numbers separated by space which needs to be sorted: \").split()))\n",
    "\n",
    "for i in range(len(x)):\n",
    "    for j in range(len(x)-1):\n",
    "        if x[j] > x[j+1]:\n",
    "            x[j],x[j+1] = x[j+1],x[j]\n",
    "print(x)"
   ]
  },
  {
   "cell_type": "code",
   "execution_count": null,
   "id": "b4be1bf2-738c-40ae-9961-9bb20cb0e81e",
   "metadata": {},
   "outputs": [],
   "source": []
  }
 ],
 "metadata": {
  "kernelspec": {
   "display_name": "Python 3 (ipykernel)",
   "language": "python",
   "name": "python3"
  },
  "language_info": {
   "codemirror_mode": {
    "name": "ipython",
    "version": 3
   },
   "file_extension": ".py",
   "mimetype": "text/x-python",
   "name": "python",
   "nbconvert_exporter": "python",
   "pygments_lexer": "ipython3",
   "version": "3.11.5"
  }
 },
 "nbformat": 4,
 "nbformat_minor": 5
}
