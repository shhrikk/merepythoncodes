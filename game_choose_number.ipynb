{
 "cells": [
  {
   "cell_type": "code",
   "execution_count": 2,
   "id": "3d7ebcf5-53b8-4e92-b1c8-cb4570d4096e",
   "metadata": {
    "tags": []
   },
   "outputs": [
    {
     "name": "stdin",
     "output_type": "stream",
     "text": [
      "Enter the size of the problem  3\n"
     ]
    },
    {
     "name": "stdout",
     "output_type": "stream",
     "text": [
      "Think of an integer from 1 to 27\n",
      "[[ 1.  2.  3.]\n",
      " [ 4.  5.  6.]\n",
      " [ 7.  8.  9.]\n",
      " [10. 11. 12.]\n",
      " [13. 14. 15.]\n",
      " [16. 17. 18.]\n",
      " [19. 20. 21.]\n",
      " [22. 23. 24.]\n",
      " [25. 26. 27.]]\n"
     ]
    },
    {
     "name": "stdin",
     "output_type": "stream",
     "text": [
      "Enter the column number  2\n"
     ]
    },
    {
     "name": "stdout",
     "output_type": "stream",
     "text": [
      "[[ 1.  4.  7.]\n",
      " [10. 13. 16.]\n",
      " [19. 22. 25.]\n",
      " [ 2.  5.  8.]\n",
      " [11. 14. 17.]\n",
      " [20. 23. 26.]\n",
      " [ 3.  6.  9.]\n",
      " [12. 15. 18.]\n",
      " [21. 24. 27.]]\n"
     ]
    },
    {
     "name": "stdin",
     "output_type": "stream",
     "text": [
      "Enter the column number  3\n"
     ]
    },
    {
     "name": "stdout",
     "output_type": "stream",
     "text": [
      "[[ 1. 10. 19.]\n",
      " [ 2. 11. 20.]\n",
      " [ 3. 12. 21.]\n",
      " [ 4. 13. 22.]\n",
      " [ 5. 14. 23.]\n",
      " [ 6. 15. 24.]\n",
      " [ 7. 16. 25.]\n",
      " [ 8. 17. 26.]\n",
      " [ 9. 18. 27.]]\n"
     ]
    },
    {
     "name": "stdin",
     "output_type": "stream",
     "text": [
      "Enter the column number  2\n"
     ]
    },
    {
     "name": "stdout",
     "output_type": "stream",
     "text": [
      "The number you thought is 17\n"
     ]
    }
   ],
   "source": [
    "import numpy as np\n",
    "\n",
    "n=int(input(\"Enter the size of the problem \"))\n",
    "print(\"Think of an integer from 1 to\",n**n)\n",
    "a=np.zeros((n**(n-1),n))\n",
    "for i in range(n**(n-1)):\n",
    "\ta[i,:]=np.arange(i*n+1,(i+1)*n+1)\n",
    "num=1\n",
    "for i in range(n):\n",
    "    print(a)\n",
    "    l=int(input(\"Enter the column number \"))\n",
    "    num+=(l-1)*(n**i)\n",
    "    b=np.zeros((n**(n-1),n))\n",
    "    for j in range(n**(n-1)):\n",
    "        for k in range(n):\n",
    "            b[j,k]=a[(j*n+k)%(n**(n-1)),(j*n+k)//(n**(n-1))]\n",
    "    a=b\n",
    "print(\"The number you thought is\",num)"
   ]
  },
  {
   "cell_type": "code",
   "execution_count": 2,
   "id": "10e43e13-c9b7-4452-970c-7658bdae9aff",
   "metadata": {},
   "outputs": [
    {
     "name": "stdout",
     "output_type": "stream",
     "text": [
      "[[1 2 3]\n",
      " [4 5 6]\n",
      " [7 3 4]]\n"
     ]
    }
   ],
   "source": [
    "import numpy as np\n",
    "a=np.array([[1,2,3],[4,5,6],[7,3,4]])\n",
    "print(a)"
   ]
  },
  {
   "cell_type": "code",
   "execution_count": null,
   "id": "acab1804-5314-4584-ae4f-2357124e2ea8",
   "metadata": {},
   "outputs": [],
   "source": []
  }
 ],
 "metadata": {
  "kernelspec": {
   "display_name": "Python 3 (ipykernel)",
   "language": "python",
   "name": "python3"
  },
  "language_info": {
   "codemirror_mode": {
    "name": "ipython",
    "version": 3
   },
   "file_extension": ".py",
   "mimetype": "text/x-python",
   "name": "python",
   "nbconvert_exporter": "python",
   "pygments_lexer": "ipython3",
   "version": "3.11.5"
  }
 },
 "nbformat": 4,
 "nbformat_minor": 5
}
