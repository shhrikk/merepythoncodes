{
 "cells": [
  {
   "cell_type": "code",
   "execution_count": 13,
   "id": "b0055b5e-20fa-4479-9ed8-b3d06bb7f752",
   "metadata": {
    "tags": []
   },
   "outputs": [
    {
     "name": "stdin",
     "output_type": "stream",
     "text": [
      "Enter the string:  Joey says to Monica, Hey! How you doing!\n"
     ]
    },
    {
     "name": "stdout",
     "output_type": "stream",
     "text": [
      "Characters in word 1 is 4\n",
      "Characters in word 2 is 4\n",
      "Characters in word 3 is 2\n",
      "Characters in word 4 is 7\n",
      "Characters in word 5 is 4\n",
      "Characters in word 6 is 3\n",
      "Characters in word 7 is 3\n",
      "Characters in word 8 is 6\n"
     ]
    }
   ],
   "source": [
    "# 4. Write a code to print the number of characters in each word of a given string\n",
    "\n",
    "import numpy as np\n",
    "y = input(\"Enter the string: \")\n",
    "\n",
    "count,j=0,-1\n",
    "for i in range(len(y)):\n",
    "    if y[i]==\" \":\n",
    "        count=count+1\n",
    "        print(\"Characters in word \" + str(count) + \" is \" + str(i-j-1))\n",
    "        j=i\n",
    "print(\"Characters in word \" + str(count+1) + \" is \" + str(len(y)-j-1))"
   ]
  },
  {
   "cell_type": "code",
   "execution_count": 21,
   "id": "b3e136f2-3c6b-4cb4-8e8f-5a6d21ec89e4",
   "metadata": {
    "tags": []
   },
   "outputs": [
    {
     "name": "stdin",
     "output_type": "stream",
     "text": [
      "enter your string:  Joey says to Monica, Hey! How you doing!\n"
     ]
    },
    {
     "name": "stdout",
     "output_type": "stream",
     "text": [
      "['Joey', 'says', 'to', 'Monica,', 'Hey!', 'How', 'you', 'doing!']\n",
      "no. of words in Joey : 4\n",
      "no. of words in says : 4\n",
      "no. of words in to : 2\n",
      "no. of words in Monica, : 7\n",
      "no. of words in Hey! : 4\n",
      "no. of words in How : 3\n",
      "no. of words in you : 3\n",
      "no. of words in doing! : 6\n"
     ]
    }
   ],
   "source": [
    "string = input(\"enter your string: \")\n",
    "words = string.split()\n",
    "print(words)\n",
    "for word in words:\n",
    "    print(\"no. of words in \" + word + \" : \" + str(len(word)))"
   ]
  },
  {
   "cell_type": "code",
   "execution_count": 1,
   "id": "09d0b8e7-9ea9-4e01-8513-2a39b0a5a1fa",
   "metadata": {},
   "outputs": [
    {
     "name": "stdin",
     "output_type": "stream",
     "text": [
      "Enter the string:  Joey says to Monica, Hey! How you doing!\n"
     ]
    },
    {
     "name": "stdout",
     "output_type": "stream",
     "text": [
      "Characters in word 1 is 4\n",
      "Characters in word 2 is 4\n",
      "Characters in word 3 is 2\n",
      "Characters in word 4 is 7\n",
      "Characters in word 5 is 4\n",
      "Characters in word 6 is 3\n",
      "Characters in word 7 is 3\n",
      "Characters in word 8 is 6\n"
     ]
    }
   ],
   "source": [
    "y = input(\"Enter the string: \")\n",
    "\n",
    "words = y.split()\n",
    "for i, word in enumerate(words, 1):\n",
    "    print(f\"Characters in word {i} is {len(word)}\")\n"
   ]
  },
  {
   "cell_type": "code",
   "execution_count": 5,
   "id": "414ecce3-8d7d-438b-91d4-bd91cf60831b",
   "metadata": {
    "tags": []
   },
   "outputs": [
    {
     "name": "stdout",
     "output_type": "stream",
     "text": [
      "shrikant is 99.04\n",
      "shrikant is 9 9.04\n"
     ]
    }
   ],
   "source": [
    "l=9\n",
    "k=9.04\n",
    "print(\"shrikant is \" + str(l) + str(k))\n",
    "print(f\"shrikant is {l} {k}\")"
   ]
  },
  {
   "cell_type": "code",
   "execution_count": 1,
   "id": "df1afb93-5f7a-4fb5-b705-15dcfce2aef9",
   "metadata": {},
   "outputs": [
    {
     "name": "stdout",
     "output_type": "stream",
     "text": [
      "['Hello', 'World']\n"
     ]
    }
   ],
   "source": [
    "string = \"Hello World\"\n",
    "words=string.split()\n",
    "print(words)"
   ]
  },
  {
   "cell_type": "code",
   "execution_count": null,
   "id": "79ffe24f-e417-4acd-9a17-6ca3e3a37d69",
   "metadata": {},
   "outputs": [],
   "source": []
  }
 ],
 "metadata": {
  "kernelspec": {
   "display_name": "Python 3 (ipykernel)",
   "language": "python",
   "name": "python3"
  },
  "language_info": {
   "codemirror_mode": {
    "name": "ipython",
    "version": 3
   },
   "file_extension": ".py",
   "mimetype": "text/x-python",
   "name": "python",
   "nbconvert_exporter": "python",
   "pygments_lexer": "ipython3",
   "version": "3.11.5"
  }
 },
 "nbformat": 4,
 "nbformat_minor": 5
}
