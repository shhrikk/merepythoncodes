{
 "cells": [
  {
   "cell_type": "code",
   "execution_count": 3,
   "id": "91cb495b-0665-483a-b353-53e88fa32cf7",
   "metadata": {
    "tags": []
   },
   "outputs": [
    {
     "name": "stdin",
     "output_type": "stream",
     "text": [
      "Enter the first vector polynomial's coefficient separated by space:  1 2\n",
      "Enter the second vector polynomial's coefficient separated by space:  7 9\n"
     ]
    },
    {
     "name": "stdout",
     "output_type": "stream",
     "text": [
      "[ 7. 23. 18.]\n"
     ]
    }
   ],
   "source": [
    "import numpy as np\n",
    "a = list(map(int, input(\"Enter the first vector polynomial's coefficient separated by space: \").split()))\n",
    "b = list(map(int, input(\"Enter the second vector polynomial's coefficient separated by space: \").split()))\n",
    "e = len(a)+len(b)-1\n",
    "c = np.zeros(e)\n",
    "d = np.zeros(e)\n",
    "for i in range(len(a)):\n",
    "    for j in range(len(b)):\n",
    "        c[i+j] = a[i] * b[j]\n",
    "        d[i+j] = d[i+j] + c[i+j]\n",
    "print(d)"
   ]
  },
  {
   "cell_type": "code",
   "execution_count": 9,
   "id": "3dc26831-8833-4066-8e55-5e315b8cc3bb",
   "metadata": {
    "tags": []
   },
   "outputs": [
    {
     "name": "stdin",
     "output_type": "stream",
     "text": [
      "Enter the first vector polynomial's coefficient separated by space:  1 2 3\n",
      "Enter the second vector polynomial's coefficient separated by space:  4 5 6\n"
     ]
    },
    {
     "name": "stdout",
     "output_type": "stream",
     "text": [
      "[ 4. 13. 28. 27. 18.]\n"
     ]
    }
   ],
   "source": [
    "import numpy as np\n",
    "a = list(map(int, input(\"Enter the first vector polynomial's coefficient separated by space: \").split()))\n",
    "b = list(map(int, input(\"Enter the second vector polynomial's coefficient separated by space: \").split()))\n",
    "e = len(a)+len(b)-1\n",
    "c = np.zeros(e)\n",
    "for i in range(len(a)):\n",
    "    for j in range(len(b)):\n",
    "        c[i+j]+=a[i]*b[j]\n",
    "print(c)"
   ]
  },
  {
   "cell_type": "code",
   "execution_count": null,
   "id": "ec03e4fe-0d45-4690-a838-a85f81085d00",
   "metadata": {},
   "outputs": [],
   "source": []
  }
 ],
 "metadata": {
  "kernelspec": {
   "display_name": "Python 3 (ipykernel)",
   "language": "python",
   "name": "python3"
  },
  "language_info": {
   "codemirror_mode": {
    "name": "ipython",
    "version": 3
   },
   "file_extension": ".py",
   "mimetype": "text/x-python",
   "name": "python",
   "nbconvert_exporter": "python",
   "pygments_lexer": "ipython3",
   "version": "3.11.5"
  }
 },
 "nbformat": 4,
 "nbformat_minor": 5
}
