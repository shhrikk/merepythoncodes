{
 "cells": [
  {
   "cell_type": "code",
   "execution_count": 11,
   "id": "89dbeb23-fe4c-4e70-8f34-f9cc914f906a",
   "metadata": {
    "tags": []
   },
   "outputs": [
    {
     "name": "stdin",
     "output_type": "stream",
     "text": [
      "Enter the 1st String:  silent\n",
      "Enter the 2nd String:  listen\n"
     ]
    },
    {
     "name": "stdout",
     "output_type": "stream",
     "text": [
      "liten\n",
      "lten\n",
      "ten\n",
      "tn\n",
      "t\n",
      "\n",
      "Yes, the two string entered are permutations\n"
     ]
    }
   ],
   "source": [
    "# Write a code to find if two strings are permutations of each other. \n",
    "# For example, “silent” and “listen” are permutations; “you are” and “are you”\n",
    "# are permutations; but “loot” and “lot” are not permutations.\n",
    "\n",
    "x=input(\"Enter the 1st String: \")\n",
    "y=input(\"Enter the 2nd String: \")\n",
    "if len(x) == len(y):\n",
    "    for i in range(len(x)):\n",
    "        y=y.replace(x[i],\"\",1)\n",
    "        #print(y)\n",
    "    if y == \"\" :\n",
    "        print(\"Yes, the two string entered are permutations\")\n",
    "    else:\n",
    "        print(\"The two strings are not permutations\")\n",
    "else:\n",
    "    print(\"The two strings are not permutations\")\n"
   ]
  },
  {
   "cell_type": "code",
   "execution_count": 2,
   "id": "3ccf4d84-225f-4d5f-ac32-082a500d9317",
   "metadata": {
    "tags": []
   },
   "outputs": [
    {
     "name": "stdin",
     "output_type": "stream",
     "text": [
      "Enter the 1st String:  are you\n",
      "Enter the 2nd String:  you are\n"
     ]
    },
    {
     "name": "stdout",
     "output_type": "stream",
     "text": [
      "Yes, the two string entered are permutations\n"
     ]
    }
   ],
   "source": [
    "# better short method\n",
    "x=input(\"Enter the 1st String: \")\n",
    "y=input(\"Enter the 2nd String: \")\n",
    "if sorted(x) == sorted (y):\n",
    "    print(\"Yes, the two string entered are permutations\")\n",
    "else:\n",
    "    print(\"The two strings are not permutations\")"
   ]
  },
  {
   "cell_type": "code",
   "execution_count": 1,
   "id": "31471616-0566-424c-a832-c506f3822104",
   "metadata": {},
   "outputs": [
    {
     "name": "stdin",
     "output_type": "stream",
     "text": [
      "Enter the 1st String:  listen\n",
      "Enter the 2nd String:  silent\n"
     ]
    },
    {
     "name": "stdout",
     "output_type": "stream",
     "text": [
      "Yes, the two strings are permutations\n"
     ]
    }
   ],
   "source": [
    "x = input(\"Enter the 1st String: \")\n",
    "y = input(\"Enter the 2nd String: \")\n",
    "\n",
    "# Check if the lengths are the same\n",
    "if len(x) != len(y):\n",
    "    print(\"The two strings are not permutations\")\n",
    "else:\n",
    "    # Sort both strings and compare\n",
    "    if sorted(x) == sorted(y):\n",
    "        print(\"Yes, the two strings are permutations\")\n",
    "    else:\n",
    "        print(\"The two strings are not permutations\")\n"
   ]
  },
  {
   "cell_type": "code",
   "execution_count": 10,
   "id": "65e4971f-40bf-4b05-873c-fa078ca5048c",
   "metadata": {},
   "outputs": [
    {
     "name": "stdout",
     "output_type": "stream",
     "text": [
      "['d', 'o', 'r', 'w']\n"
     ]
    }
   ],
   "source": [
    "x=\"word\"\n",
    "print(sorted(x))"
   ]
  },
  {
   "cell_type": "code",
   "execution_count": null,
   "id": "301a43c1-be98-48e1-af60-06ce16f8721b",
   "metadata": {},
   "outputs": [],
   "source": []
  }
 ],
 "metadata": {
  "kernelspec": {
   "display_name": "Python 3 (ipykernel)",
   "language": "python",
   "name": "python3"
  },
  "language_info": {
   "codemirror_mode": {
    "name": "ipython",
    "version": 3
   },
   "file_extension": ".py",
   "mimetype": "text/x-python",
   "name": "python",
   "nbconvert_exporter": "python",
   "pygments_lexer": "ipython3",
   "version": "3.11.5"
  }
 },
 "nbformat": 4,
 "nbformat_minor": 5
}
