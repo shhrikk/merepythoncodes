{
 "cells": [
  {
   "cell_type": "code",
   "execution_count": 1,
   "id": "de9d2d71-2a1a-4375-aa5f-ae790910527d",
   "metadata": {
    "tags": []
   },
   "outputs": [
    {
     "name": "stdin",
     "output_type": "stream",
     "text": [
      "Enter values of the matrix row wise  1 2 3 4 5 6 7 8 9\n"
     ]
    },
    {
     "name": "stdout",
     "output_type": "stream",
     "text": [
      "[1, 2, 3, 4, 5, 6, 7, 8, 9]\n"
     ]
    },
    {
     "name": "stdin",
     "output_type": "stream",
     "text": [
      "Enter dimension of the matrix you just entered  3 3\n"
     ]
    },
    {
     "name": "stdout",
     "output_type": "stream",
     "text": [
      "Saddle point is 7 and Saddle point location is 3 * 1\n",
      "Saddle point is 3 and Saddle point location is 1 * 3\n"
     ]
    }
   ],
   "source": [
    "# Write a code to compute all the saddle points of a given matrix along with\n",
    "# the locations in the matrix. Recall that a saddle point is an element of a\n",
    "# matrix that is simultaneously the maximum of a row and the minimum of\n",
    "# a column, or the minimum of a row and the maximum of a column.\n",
    "\n",
    "import numpy as np\n",
    "x = list(map(int, input(\"Enter values of the matrix row wise \").split()))\n",
    "print(x)\n",
    "m,n = list(map(int, input(\"Enter dimension of the matrix you just entered \").split()))\n",
    "matrix = np.reshape(x,(m,n))\n",
    "for i in range(0,m,1):\n",
    "    for j in range(0,n,1):\n",
    "        if matrix[i][j] == np.min(matrix[i,:]) :\n",
    "            if matrix[i][j] == np.max(matrix[:,j]) :\n",
    "                print(\"Saddle point is \" + str(matrix[i][j]) + \" and Saddle point location is \" + str(i+1) + \" * \" + str(j+1))\n",
    "\n",
    "for i in range(0,m,1):\n",
    "    for j in range(0,n,1):\n",
    "        if matrix[i][j] == np.max(matrix[i,:]):\n",
    "            if matrix[i][j] == np.min(matrix[:,j]) :\n",
    "                print(\"Saddle point is \" + str(matrix[i][j]) + \" and Saddle point location is \" + str(i+1) + \" * \" + str(j+1))\n"
   ]
  },
  {
   "cell_type": "code",
   "execution_count": 3,
   "id": "66fe87ce-5425-451c-be06-0e67dacbf349",
   "metadata": {},
   "outputs": [
    {
     "name": "stdin",
     "output_type": "stream",
     "text": [
      "Enter values of the matrix row wise  1 2 3 4 5 6 7 8 9\n",
      "Enter dimension of the matrix you just entered  3 3\n"
     ]
    },
    {
     "name": "stdout",
     "output_type": "stream",
     "text": [
      "Saddle point is 7 and Saddle point location is 3 * 1\n",
      "Saddle point is 3 and Saddle point location is 1 * 3\n"
     ]
    }
   ],
   "source": [
    "import numpy as np\n",
    "x = list(map(int, input(\"Enter values of the matrix row wise \").split()))\n",
    "m,n = list(map(int, input(\"Enter dimension of the matrix you just entered \").split()))\n",
    "matrix = np.reshape(x,(m,n))\n",
    "for i in range(m):\n",
    "    for j in range(n):\n",
    "        if matrix[i][j] == np.min(matrix[i,:]) and matrix[i][j] == np.max(matrix[:,j]) :\n",
    "            print(\"Saddle point is \" + str(matrix[i][j]) + \" and Saddle point location is \" + str(i+1) + \" * \" + str(j+1))\n",
    "\n",
    "for i in range(m):\n",
    "    for j in range(n):\n",
    "        if matrix[i][j] == np.max(matrix[i,:]) and matrix[i][j] == np.min(matrix[:,j]) :\n",
    "            print(\"Saddle point is \" + str(matrix[i][j]) + \" and Saddle point location is \" + str(i+1) + \" * \" + str(j+1))"
   ]
  },
  {
   "cell_type": "code",
   "execution_count": null,
   "id": "c293e83f-28ab-4082-b165-56c594968e00",
   "metadata": {},
   "outputs": [],
   "source": []
  }
 ],
 "metadata": {
  "kernelspec": {
   "display_name": "Python 3 (ipykernel)",
   "language": "python",
   "name": "python3"
  },
  "language_info": {
   "codemirror_mode": {
    "name": "ipython",
    "version": 3
   },
   "file_extension": ".py",
   "mimetype": "text/x-python",
   "name": "python",
   "nbconvert_exporter": "python",
   "pygments_lexer": "ipython3",
   "version": "3.11.5"
  }
 },
 "nbformat": 4,
 "nbformat_minor": 5
}
