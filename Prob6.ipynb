{
 "cells": [
  {
   "cell_type": "code",
   "execution_count": 28,
   "id": "4dd2a442-486c-4edb-9ebc-1aa22cf25475",
   "metadata": {
    "tags": []
   },
   "outputs": [
    {
     "name": "stdin",
     "output_type": "stream",
     "text": [
      "Enter the 1st String:  or agn\n",
      "Enter the 2nd String:  oerv or agn\n"
     ]
    },
    {
     "name": "stdout",
     "output_type": "stream",
     "text": [
      "The longest common string is: ' or agn'\n",
      " or agn\n",
      "\n"
     ]
    }
   ],
   "source": [
    "# Write a code to print the longest common substring in two given strings.\n",
    "# For example, if the strings are “conic section” and “carbonic acid”, your\n",
    "# code should print “onic ” with a space at the end.\n",
    "\n",
    "x=input(\"Enter the 1st String: \")\n",
    "y=input(\"Enter the 2nd String: \")\n",
    "k=\"\"\n",
    "highest=0\n",
    "g=\"\"\n",
    "h=\"\"\n",
    "if len(x)>len(y):\n",
    "    x,y=y,x\n",
    "for i in range(len(y)+1):\n",
    "    x1=\" \"*(len(y)-i) + x\n",
    "    y1=y + \" \"*(len(x)-i)\n",
    "    for j in range(len(x1)):\n",
    "        if x1[j]==y1[j]:\n",
    "            k= k+ y1[j]\n",
    "            if len(k)>highest:\n",
    "                highest=len(k)\n",
    "                g=k\n",
    "        else:\n",
    "            k=\"\"\n",
    "x,y=y,x\n",
    "for i in range(len(y)+1):\n",
    "    x1=\" \"*(len(y)-i) + x\n",
    "    y1=y + \" \"*(len(x)-i)\n",
    "    for j in range(len(x1)):\n",
    "        if x1[j]==y1[j]:\n",
    "            k= k+ y1[j]\n",
    "            if len(k)>highest:\n",
    "                highest=len(k)\n",
    "                h=k\n",
    "        else:\n",
    "            k=\"\"\n",
    "if len(g)>len(h):\n",
    "    w=g\n",
    "else:\n",
    "    w=h\n",
    "print(\"The longest common string is: \" + \"'\" + str(w) + \"'\")\n",
    "print(g)\n",
    "print(h)\n"
   ]
  },
  {
   "cell_type": "code",
   "execution_count": 1,
   "id": "9e8164b6-f691-4fe3-88b1-b8b507a6f3d4",
   "metadata": {
    "tags": []
   },
   "outputs": [
    {
     "name": "stdin",
     "output_type": "stream",
     "text": [
      "Enter the 1st String:  listen\n",
      "Enter the 2nd String:  silent\n"
     ]
    },
    {
     "name": "stdout",
     "output_type": "stream",
     "text": [
      "The longest common string is: 'en'\n"
     ]
    }
   ],
   "source": [
    "# this is better version from CHAT GPT\n",
    "x = input(\"Enter the 1st String: \")\n",
    "y = input(\"Enter the 2nd String: \")\n",
    "k = \"\"\n",
    "highest = 0\n",
    "g = \"\"\n",
    "if len(x) > len(y):\n",
    "    x, y = y, x\n",
    "for i in range(len(x)):\n",
    "    for j in range(len(y)):\n",
    "        if x[i] == y[j]:\n",
    "            k = \"\"\n",
    "            m, n = i, j\n",
    "            while m < len(x) and n < len(y) and x[m] == y[n]:\n",
    "                k += x[m]\n",
    "                m += 1\n",
    "                n += 1\n",
    "            if len(k) > highest:\n",
    "                highest = len(k)\n",
    "                g = k\n",
    "print(\"The longest common string is: '\" + str(g) + \"'\")\n"
   ]
  },
  {
   "cell_type": "code",
   "execution_count": null,
   "id": "a9b0b7d8-19d6-4003-8b97-374489aff086",
   "metadata": {},
   "outputs": [],
   "source": []
  }
 ],
 "metadata": {
  "kernelspec": {
   "display_name": "Python 3 (ipykernel)",
   "language": "python",
   "name": "python3"
  },
  "language_info": {
   "codemirror_mode": {
    "name": "ipython",
    "version": 3
   },
   "file_extension": ".py",
   "mimetype": "text/x-python",
   "name": "python",
   "nbconvert_exporter": "python",
   "pygments_lexer": "ipython3",
   "version": "3.11.5"
  }
 },
 "nbformat": 4,
 "nbformat_minor": 5
}
