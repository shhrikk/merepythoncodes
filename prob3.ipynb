{
 "cells": [
  {
   "cell_type": "code",
   "execution_count": 5,
   "id": "ee10183a-0466-4d7a-aa65-2c2477d35656",
   "metadata": {
    "tags": []
   },
   "outputs": [
    {
     "name": "stdin",
     "output_type": "stream",
     "text": [
      "Enter the string:  23@4\n"
     ]
    },
    {
     "name": "stdout",
     "output_type": "stream",
     "text": [
      "2\n",
      "3\n",
      "@\n",
      "4\n",
      "The number of lower case alphabets are:  0\n",
      "The number of UPPER CASE alphabets are:  0\n",
      "The number of numeric characters are:  3\n",
      "The number of special symbol characters are:  1\n"
     ]
    }
   ],
   "source": [
    "# 3. For a given string, write a code to print the number of lower case alpha\u0002bets (“a-z”), upper case alphabets (“A-Z”), \n",
    "# numbers (“0-9”), and other characters (space bar, symbols, etc.)\n",
    "\n",
    "import numpy as np\n",
    "y = input(\"Enter the string: \")\n",
    "l,u,n,c=0,0,0,0\n",
    "\n",
    "for i in range(len(y)):\n",
    "    x=y[i]\n",
    "    print(x)\n",
    "    if x.islower() == True :\n",
    "        l=l+1\n",
    "    elif x.isupper() == True :\n",
    "        u=u+1\n",
    "    elif x.isnumeric() == True :\n",
    "        n=n+1\n",
    "    else :\n",
    "        c=c+1\n",
    "print(\"The number of lower case alphabets are: \",l)\n",
    "print(\"The number of UPPER CASE alphabets are: \",u)\n",
    "print(\"The number of numeric characters are: \",n)\n",
    "print(\"The number of special symbol characters are: \",c)"
   ]
  },
  {
   "cell_type": "code",
   "execution_count": 1,
   "id": "08a16453-5713-41c1-b269-c318c2bf0499",
   "metadata": {},
   "outputs": [
    {
     "name": "stdin",
     "output_type": "stream",
     "text": [
      "Enter the string:  h32rv3SE#@\n"
     ]
    },
    {
     "name": "stdout",
     "output_type": "stream",
     "text": [
      "The number of lower case alphabets are: 3\n",
      "The number of UPPER CASE alphabets are: 2\n",
      "The number of numeric characters are: 3\n",
      "The number of special symbol characters are: 2\n"
     ]
    }
   ],
   "source": [
    "y = input(\"Enter the string: \")\n",
    "l, u, n, c = 0, 0, 0, 0\n",
    "\n",
    "for char in y:\n",
    "    if char.isalpha():\n",
    "        if char.islower():\n",
    "            l += 1\n",
    "        else:\n",
    "            u += 1\n",
    "    elif char.isnumeric():\n",
    "        n += 1\n",
    "    else:\n",
    "        c += 1\n",
    "\n",
    "print(\"The number of lower case alphabets are:\", l)\n",
    "print(\"The number of UPPER CASE alphabets are:\", u)\n",
    "print(\"The number of numeric characters are:\", n)\n",
    "print(\"The number of special symbol characters are:\", c)\n"
   ]
  },
  {
   "cell_type": "code",
   "execution_count": 2,
   "id": "bb715fc6-63e2-42db-b4fb-7e4578b5b8ca",
   "metadata": {},
   "outputs": [
    {
     "name": "stdout",
     "output_type": "stream",
     "text": [
      "False\n",
      "True\n"
     ]
    }
   ],
   "source": [
    "x=\"ASF\"\n",
    "print(x.islower())\n",
    "print(x.isupper())"
   ]
  },
  {
   "cell_type": "code",
   "execution_count": null,
   "id": "2040a612-6ff0-43b1-82ef-ad8a8b1a365a",
   "metadata": {},
   "outputs": [],
   "source": []
  }
 ],
 "metadata": {
  "kernelspec": {
   "display_name": "Python 3 (ipykernel)",
   "language": "python",
   "name": "python3"
  },
  "language_info": {
   "codemirror_mode": {
    "name": "ipython",
    "version": 3
   },
   "file_extension": ".py",
   "mimetype": "text/x-python",
   "name": "python",
   "nbconvert_exporter": "python",
   "pygments_lexer": "ipython3",
   "version": "3.11.5"
  }
 },
 "nbformat": 4,
 "nbformat_minor": 5
}
