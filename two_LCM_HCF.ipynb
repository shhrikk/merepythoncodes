{
 "cells": [
  {
   "cell_type": "code",
   "execution_count": 8,
   "id": "7bfe1bf8-90e4-4565-887a-2b03c98dcbc8",
   "metadata": {},
   "outputs": [
    {
     "name": "stdin",
     "output_type": "stream",
     "text": [
      "Enter 2 numbers to calculate GCD and LCM:  76 54\n"
     ]
    },
    {
     "name": "stdout",
     "output_type": "stream",
     "text": [
      "Greatest Common Divisor: 2\n",
      "Lowest Common Multiple: 2052.0\n"
     ]
    }
   ],
   "source": [
    "a,b=input(\"Enter 2 numbers to calculate GCD and LCM: \").split()\n",
    "a = int(a)\n",
    "b = int(b)\n",
    "num1 = int(a)\n",
    "num2 = int(b)\n",
    "l=1\n",
    "while l != 0 :\n",
    "    l=a%b\n",
    "    a=b\n",
    "    b=l\n",
    "print(\"Greatest Common Divisor:\",a)\n",
    "\n",
    "s=num1*num2/a\n",
    "print(\"Lowest Common Multiple: \" + str(s))"
   ]
  },
  {
   "cell_type": "code",
   "execution_count": 1,
   "id": "80f800a5-5b26-4061-980b-d07089984be7",
   "metadata": {},
   "outputs": [
    {
     "name": "stdin",
     "output_type": "stream",
     "text": [
      "Enter the elements of a matrix row wise-linearly, separated with a space:  1 2 3 2 4 5 3 8 10\n",
      "Enter the dimensions of the matrix, separated with a space:  3 3\n"
     ]
    },
    {
     "name": "stdout",
     "output_type": "stream",
     "text": [
      "[[ 1  2  3]\n",
      " [ 2  4  5]\n",
      " [ 3  8 10]]\n"
     ]
    }
   ],
   "source": [
    "import numpy as np\n",
    "x = list(map(int,input(\"Enter the elements of a matrix row wise-linearly, separated with a space: \").split()))\n",
    "m,n = list(map(int,input(\"Enter the dimensions of the matrix, separated with a space: \").split()))\n",
    "z = np.reshape(x,(m,n))\n",
    "print(z)"
   ]
  },
  {
   "cell_type": "code",
   "execution_count": null,
   "id": "78731345-7bb0-46f0-9a3b-b5566f7e75bb",
   "metadata": {},
   "outputs": [],
   "source": []
  }
 ],
 "metadata": {
  "kernelspec": {
   "display_name": "Python 3 (ipykernel)",
   "language": "python",
   "name": "python3"
  },
  "language_info": {
   "codemirror_mode": {
    "name": "ipython",
    "version": 3
   },
   "file_extension": ".py",
   "mimetype": "text/x-python",
   "name": "python",
   "nbconvert_exporter": "python",
   "pygments_lexer": "ipython3",
   "version": "3.11.5"
  }
 },
 "nbformat": 4,
 "nbformat_minor": 5
}
